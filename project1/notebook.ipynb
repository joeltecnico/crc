{
 "cells": [
  {
   "cell_type": "code",
   "execution_count": 2,
   "metadata": {},
   "outputs": [
    {
     "ename": "SyntaxError",
     "evalue": "invalid syntax (<ipython-input-2-e9d6c4ed73b4>, line 60)",
     "output_type": "error",
     "traceback": [
      "\u001b[1;36m  File \u001b[1;32m\"<ipython-input-2-e9d6c4ed73b4>\"\u001b[1;36m, line \u001b[1;32m60\u001b[0m\n\u001b[1;33m    if node =1912:\u001b[0m\n\u001b[1;37m            ^\u001b[0m\n\u001b[1;31mSyntaxError\u001b[0m\u001b[1;31m:\u001b[0m invalid syntax\n"
     ]
    }
   ],
   "source": [
    "%matplotlib inline\n",
    "\n",
    "import networkx as nx\n",
    "import matplotlib.pyplot as plt\n",
    "import numpy as np\n",
    "import collections as col\n",
    "import powerlaw\n",
    "import operator\n",
    "\n",
    "with open('facebook_combined.csv', 'rb') as inf:\n",
    "    next(inf, '')   # skip a line\n",
    "    G = nx.read_edgelist(inf, delimiter=',', nodetype=int, encoding=\"utf-8\")\n",
    "    N = G.number_of_nodes()\n",
    "    E = G.number_of_edges()\n",
    "    \n",
    "    nx.draw(G, node_size = 15)\n",
    "    plt.show()\n",
    "    \n",
    "    average_degree = 2 * E / N\n",
    "    clustering_coef = nx.average_clustering(G)\n",
    "    average_path_length = nx.average_shortest_path_length(G)\n",
    "    \n",
    "    #transitivity = nx.transitivity(G)\n",
    "    \n",
    "    degree_sequence = sorted([d for n, d in G.degree()])  # degree sequence\n",
    "    degreeCount = col.Counter(degree_sequence)\n",
    "    deg, cnt = zip(*degreeCount.items())\n",
    "    \n",
    "    cnt_normalized = np.array(cnt) / N\n",
    "    \n",
    "    fig, ax = plt.subplots()\n",
    "    plt.loglog(deg, cnt_normalized, marker='.', linestyle=\"None\")\n",
    "    \n",
    "    plt.title(\"Degree Distribution\")\n",
    "    plt.ylabel(\"P(k)\")\n",
    "    plt.xlabel(\"K\")\n",
    "    \n",
    "    plt.show()\n",
    "    \n",
    "    fit = powerlaw.Fit(np.array(degree_sequence)+1,discrete=True)\n",
    "    fit.power_law.plot_pdf( color= 'b',linestyle='--',label='fit ccdf')\n",
    "    fit.plot_pdf( color= 'b')\n",
    "    \n",
    "    print('average degree= ', average_degree)\n",
    "    print('alpha= ',fit.power_law.alpha,'  sigma= ',fit.power_law.sigma, '   xmin= ', fit.power_law.xmin)\n",
    "    print('clustering coeficient= ', clustering_coef)\n",
    "    #print('transitivity= ', transitivity)\n",
    "    print('average path length= ', average_path_length)\n",
    "    \n",
    "    betweenness_centrality_nodes = nx.betweenness_centrality(G)\n",
    "    sorted_bc = sorted(betweenness_centrality_nodes.items(), key=operator.itemgetter(1), reverse=True)\n",
    "    most_important = [i[0] for i in sorted_bc[0:4]]\n",
    "    \n",
    "    # Code to show the graph with the most important nodes highlighted\n",
    "    \n",
    "    color_map = []\n",
    "    node_sizes = []\n",
    "\n",
    "    for node in G:\n",
    "        if node =1912:\n",
    "            color_map.append('red')\n",
    "            node_sizes.append(30)\n",
    "        else:\n",
    "            color_map.append('green')\n",
    "            node_sizes.append(15)\n",
    "    nx.draw(G,node_color = color_map, node_size = node_sizes)\n",
    "    plt.show()\n",
    "    "
   ]
  },
  {
   "cell_type": "code",
   "execution_count": null,
   "metadata": {},
   "outputs": [],
   "source": []
  }
 ],
 "metadata": {
  "kernelspec": {
   "display_name": "Python 3",
   "language": "python",
   "name": "python3"
  },
  "language_info": {
   "codemirror_mode": {
    "name": "ipython",
    "version": 3
   },
   "file_extension": ".py",
   "mimetype": "text/x-python",
   "name": "python",
   "nbconvert_exporter": "python",
   "pygments_lexer": "ipython3",
   "version": "3.6.5"
  }
 },
 "nbformat": 4,
 "nbformat_minor": 2
}
