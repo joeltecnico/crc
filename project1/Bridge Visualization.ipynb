{
 "cells": [
  {
   "cell_type": "code",
   "execution_count": null,
   "metadata": {},
   "outputs": [],
   "source": [
    "import networkx as nx\n",
    "import matplotlib.pyplot as plt\n",
    "%matplotlib inline\n",
    "\n",
    "\n",
    "with open('facebook_combined.csv', 'rb') as inf:\n",
    "    next(inf, '')   # skip a line\n",
    "    G = nx.read_edgelist(inf, delimiter=',', nodetype=int, encoding=\"utf-8\")\n",
    "    N = G.number_of_nodes()\n",
    "    E = G.number_of_edges()\n",
    "    \n",
    "    edges = G.edges()\n",
    "    colors = []\n",
    "    paint_edges = []\n",
    "    paint_edges2 = []\n",
    "    paint_nodes = []\n",
    "    \n",
    "    local = list(nx.local_bridges(G, False))\n",
    "    total = list(nx.bridges(G))\n",
    "    \n",
    "    for i in total :\n",
    "        paint_edges.append(i)\n",
    "        if i[0] not in paint_nodes :\n",
    "            paint_nodes.append(i[0])\n",
    "        if i[1] not in paint_nodes :\n",
    "            paint_nodes.append(i[1])\n",
    "    \n",
    "    \n",
    "    for i in local :\n",
    "        if i not in total :\n",
    "            if i[0] not in paint_nodes :\n",
    "                paint_nodes.append(i[0])\n",
    "            if i[1] not in paint_nodes :\n",
    "                paint_nodes.append(i[1])\n",
    "            paint_edges2.append(i)\n",
    "            \n",
    "    for u, v in edges :\n",
    "        if (u, v) in paint_edges :\n",
    "            colors.append('red')\n",
    "        elif (u, v) in paint_edges2 :\n",
    "            colors.append('green')\n",
    "        else :\n",
    "            colors.append('black')\n",
    "    \n",
    "    color_map = []\n",
    "    node_sizes = []\n",
    "    \n",
    "    for node in G:\n",
    "        if node in paint_nodes :\n",
    "            color_map.append('blue')\n",
    "            node_sizes.append(70)\n",
    "        else :\n",
    "            color_map.append('grey')\n",
    "            node_sizes.append(15)\n",
    "        \n",
    "    nx.draw(G,node_color = color_map, edge_color=colors, node_size = node_sizes, alpha = 0.7)\n",
    "    plt.show()"
   ]
  },
  {
   "cell_type": "code",
   "execution_count": null,
   "metadata": {},
   "outputs": [],
   "source": []
  }
 ],
 "metadata": {
  "kernelspec": {
   "display_name": "Python 3",
   "language": "python",
   "name": "python3"
  },
  "language_info": {
   "codemirror_mode": {
    "name": "ipython",
    "version": 3
   },
   "file_extension": ".py",
   "mimetype": "text/x-python",
   "name": "python",
   "nbconvert_exporter": "python",
   "pygments_lexer": "ipython3",
   "version": "3.6.5"
  }
 },
 "nbformat": 4,
 "nbformat_minor": 2
}
