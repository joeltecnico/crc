{
 "cells": [
  {
   "cell_type": "code",
   "execution_count": 3,
   "metadata": {},
   "outputs": [
    {
     "name": "stdout",
     "output_type": "stream",
     "text": [
      "p =  0.1\n",
      "clustering coeficient =  0.6085378623386515\n",
      "average_path_length =  2.95669978972968\n",
      "average degree=  46.16736816043575\n"
     ]
    }
   ],
   "source": [
    "import networkx as nx\n",
    "\n",
    "n = 4039\n",
    "k = 43\n",
    "p = 0.1 # The probability of adding a new edge for each edge.\n",
    "\n",
    "G = nx.newman_watts_strogatz_graph(n, k, p, seed=None)\n",
    "\n",
    "print('p = ', p)\n",
    "print('clustering coeficient = ', nx.average_clustering(G))\n",
    "print('average_path_length = ', nx.average_shortest_path_length(G))\n",
    "print('average degree= ', 2 * G.number_of_edges() / G.number_of_nodes())\n",
    "\n",
    "# Target:\n",
    "## clustering coeficient = 0.6055467186200876\n",
    "## average path length = 3.6925068496963913\n",
    "\n",
    "# Obtained:\n",
    "### p = 0.0\n",
    "## clustering coeficient = 0.7317073170731156\n",
    "## average_path_length = 48.57206537890045\n",
    "\n",
    "# Obtained:\n",
    "### p = 0.1, seed=None\n",
    "## clustering coeficient = 0.6086901988186678\n",
    "## average_path_length = 2.957090360073974\n",
    "\n",
    "# Obtained:\n",
    "### p = 0.2\n",
    "## clustering coeficient = 0.5142022009540516\n",
    "## average_path_length = 2.7960279793067615\n"
   ]
  }
 ],
 "metadata": {
  "kernelspec": {
   "display_name": "Python 3",
   "language": "python",
   "name": "python3"
  },
  "language_info": {
   "codemirror_mode": {
    "name": "ipython",
    "version": 3
   },
   "file_extension": ".py",
   "mimetype": "text/x-python",
   "name": "python",
   "nbconvert_exporter": "python",
   "pygments_lexer": "ipython3",
   "version": "3.6.5"
  }
 },
 "nbformat": 4,
 "nbformat_minor": 2
}
