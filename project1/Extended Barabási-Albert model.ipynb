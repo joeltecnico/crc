{
 "cells": [
  {
   "cell_type": "code",
   "execution_count": 4,
   "metadata": {},
   "outputs": [
    {
     "name": "stdout",
     "output_type": "stream",
     "text": [
      "Clustering Coeficient=  0.037091787017193484\n",
      "Average Path Length=  2.515181291472041\n"
     ]
    }
   ],
   "source": [
    "import networkx as nx\n",
    "\n",
    "N = 4039\n",
    "m = 22\n",
    "p = 0.0\n",
    "q = 0.0\n",
    "G = nx.extended_barabasi_albert_graph(N, m, p, q, seed=1)\n",
    "\n",
    "# Initially we had a loop iterating through every combination\n",
    "# of 'p' and 'q', but due to very long run time we gave up on that.\n",
    "print('Clustering Coeficient= ', nx.average_clustering(G))\n",
    "print('Average Path Length= ', nx.average_shortest_path_length(G))\n",
    "\n",
    "# Outputs for run 'p' and 'q' values: #  \n",
    "### q: 0.0 p: 0.0\n",
    "# CC  = 0.037\n",
    "# APL = 2.517\n",
    "### q: 0.1 p: 0.0\n",
    "# CC  = 0.044\n",
    "# APL = 2.460\n",
    "### q: 0.1 p: 0.1\n",
    "# CC  = 0.0470\n",
    "# APL = 2.4516\n",
    "### q: 0.2 p: 0.0\n",
    "# CC  = 0.064\n",
    "# APL = 2.382\n",
    "### q: 0.2 p: 0.0\n",
    "# CC  = 0.064\n",
    "# APL = 2.382\n",
    "### q: 0.2 p: 0.1\n",
    "# CC  = 0.062\n",
    "# APL = 2.378\n",
    "### q: 0.2 p: 0.2\n",
    "# CC  = 0.070\n",
    "# APL = 2.353\n",
    "### q: 0.3 p: 0.0\n",
    "# CC  = 00.078\n",
    "# APL = 2.323\n",
    "### q: 0.3 p: 0.2\n",
    "# CC  = 0.0925\n",
    "# APL = 2.278\n",
    "### q: 0.3 p: 0.3\n",
    "# CC  = 0.099\n",
    "# APL = 2.241\n",
    "### q: 0.0 p: 0.1\n",
    "# CC  = 0.036\n",
    "# APL = 2.517\n",
    "### q: 0.0 p: 0.2\n",
    "# CC  = 0.034\n",
    "# APL = 2.527\n",
    "### q: 0.0 p: 0.3\n",
    "# CC  = 0.033\n",
    "# APL = 2.528\n",
    "### q: 0.0 p: 0.4\n",
    "# CC  = 0.032\n",
    "# APL = 2.534\n",
    "### q: 0.0 p: 0.5\n",
    "# CC  = 0.030\n",
    "# APL = 2.537\n",
    "### q: 0.0 p: 0.6\n",
    "# CC  = 0.030\n",
    "# APL = 2.541\n",
    "### q: 0.0 p: 0.7\n",
    "# CC  = 0.029\n",
    "# APL = 2.546\n",
    "### q: 0.0 p: 0.8\n",
    "# CC  = 0.027\n",
    "# APL = 2.554"
   ]
  },
  {
   "cell_type": "code",
   "execution_count": null,
   "metadata": {},
   "outputs": [],
   "source": []
  }
 ],
 "metadata": {
  "kernelspec": {
   "display_name": "Python 3",
   "language": "python",
   "name": "python3"
  },
  "language_info": {
   "codemirror_mode": {
    "name": "ipython",
    "version": 3
   },
   "file_extension": ".py",
   "mimetype": "text/x-python",
   "name": "python",
   "nbconvert_exporter": "python",
   "pygments_lexer": "ipython3",
   "version": "3.6.5"
  }
 },
 "nbformat": 4,
 "nbformat_minor": 2
}
