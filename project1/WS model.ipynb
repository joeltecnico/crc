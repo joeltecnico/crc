{
 "cells": [
  {
   "cell_type": "code",
   "execution_count": 1,
   "metadata": {},
   "outputs": [
    {
     "name": "stdout",
     "output_type": "stream",
     "text": [
      "p =  0.1\n",
      "clustering coeficient =  0.5338505730076563\n",
      "average_path_length =  3.001287349285526\n"
     ]
    }
   ],
   "source": [
    "import networkx as nx\n",
    "\n",
    "n = 4039\n",
    "k = 43\n",
    "p = 0.1 # The probability of rewiring each edge\n",
    "\n",
    "G = nx.watts_strogatz_graph(n, k, p, seed=None)\n",
    "\n",
    "print('p = ', p)\n",
    "print('clustering coeficient = ', nx.average_clustering(G))\n",
    "print('average_path_length = ', nx.average_shortest_path_length(G))\n",
    "\n",
    "# Target:\n",
    "## clustering coeficient = 0.61\n",
    "## average path length = 3.69\n",
    "\n",
    "# Obtained:\n",
    "### p = 0.0\n",
    "## clustering coeficient = 0.7317073170731156\n",
    "## average_path_length = 48.57206537890045\n",
    "\n",
    "# Obtained:\n",
    "### p = 0.1\n",
    "## clustering coeficient = 0.538809857663566\n",
    "## average_path_length = 3.0137961463153764\n",
    "\n",
    "# Obtained:\n",
    "### p = 0.2\n",
    "## clustering coeficient = 0.3776386881773995\n",
    "## average_path_length = 2.836289098574682"
   ]
  }
 ],
 "metadata": {
  "kernelspec": {
   "display_name": "Python 3",
   "language": "python",
   "name": "python3"
  },
  "language_info": {
   "codemirror_mode": {
    "name": "ipython",
    "version": 3
   },
   "file_extension": ".py",
   "mimetype": "text/x-python",
   "name": "python",
   "nbconvert_exporter": "python",
   "pygments_lexer": "ipython3",
   "version": "3.6.5"
  }
 },
 "nbformat": 4,
 "nbformat_minor": 2
}
