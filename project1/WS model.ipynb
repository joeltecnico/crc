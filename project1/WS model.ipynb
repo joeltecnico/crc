{
 "cells": [
  {
   "cell_type": "code",
   "execution_count": 14,
   "metadata": {},
   "outputs": [
    {
     "name": "stdout",
     "output_type": "stream",
     "text": [
      "Start:  01:48:20.392524 \n",
      "\n",
      "p =  0.1\n",
      "clustering coeficient =  0.5369805725627785\n",
      "average_path_length =  3.010328470272692\n",
      "\n",
      "End:  01:53:59.495385\n"
     ]
    }
   ],
   "source": [
    "import networkx as nx\n",
    "from datetime import datetime\n",
    "\n",
    "print(\"Start: \", datetime.now().time(), \"\\n\")\n",
    "n = 4039\n",
    "k = 43\n",
    "p = 0.1 # The probability of rewiring each edge\n",
    "\n",
    "G = nx.watts_strogatz_graph(n, k, p, seed=None)\n",
    "clustering_coef = nx.average_clustering(G)\n",
    "average_path_length = nx.average_shortest_path_length(G)\n",
    "\n",
    "print('p = ', p)\n",
    "print('clustering coeficient = ', clustering_coef)\n",
    "print('average_path_length = ', average_path_length)\n",
    "\n",
    "print(\"\\nEnd: \", datetime.now().time())\n",
    "\n",
    "\n",
    "# Target:\n",
    "## clustering coeficient = 0.6055467186200876\n",
    "## average path length = 3.6925068496963913\n",
    "#betweenness_centrality_nodes = nx.betweenness_centrality(G)\n",
    "\n",
    "# Obtained:\n",
    "### p = 0.0\n",
    "## clustering coeficient = 0.7317073170731156\n",
    "## average_path_length = 48.57206537890045\n",
    "\n",
    "# Obtained:\n",
    "### p = 0.1, seed=None\n",
    "## clustering coeficient = 0.538809857663566\n",
    "## average_path_length = 3.0137961463153764\n",
    "### p = 0.1, seed=5033\n",
    "# Start:  01:48:20.392524 \n",
    "## clustering coeficient = 0.5369805725627785\n",
    "## average_path_length = 3.010328470272692\n",
    "# End:  01:53:59.495385\n",
    "\n",
    "# Obtained:\n",
    "### p = 0.2\n",
    "## clustering coeficient = 0.3776386881773995\n",
    "## average_path_length = 2.836289098574682"
   ]
  },
  {
   "cell_type": "code",
   "execution_count": null,
   "metadata": {},
   "outputs": [],
   "source": []
  }
 ],
 "metadata": {
  "kernelspec": {
   "display_name": "Python 3",
   "language": "python",
   "name": "python3"
  },
  "language_info": {
   "codemirror_mode": {
    "name": "ipython",
    "version": 3
   },
   "file_extension": ".py",
   "mimetype": "text/x-python",
   "name": "python",
   "nbconvert_exporter": "python",
   "pygments_lexer": "ipython3",
   "version": "3.6.5"
  }
 },
 "nbformat": 4,
 "nbformat_minor": 2
}
