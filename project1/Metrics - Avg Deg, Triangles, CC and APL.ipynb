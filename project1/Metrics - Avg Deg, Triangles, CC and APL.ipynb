{
 "cells": [
  {
   "cell_type": "code",
   "execution_count": null,
   "metadata": {},
   "outputs": [
    {
     "name": "stdout",
     "output_type": "stream",
     "text": [
      "Average degree =  43.69101262688784\n",
      "Number of triangles =  1612010.0\n",
      "Clustering Coefficient =  0.6055467186200876\n"
     ]
    }
   ],
   "source": [
    "import networkx as nx\n",
    "\n",
    "with open('facebook_combined.csv', 'rb') as inf:\n",
    "    next(inf, '')   # skip header\n",
    "    G = nx.read_edgelist(inf, delimiter=',', nodetype=int, encoding=\"utf-8\")\n",
    "    N = G.number_of_nodes()\n",
    "    E = G.number_of_edges()\n",
    "    \n",
    "    average_degree = 2 * E / N\n",
    "    print(\"Average degree = \", average_degree)\n",
    "    n_triangles = sum(nx.triangles(G).values()) / 3\n",
    "    print(\"Number of triangles = \", n_triangles)\n",
    "    clustering_coef = nx.average_clustering(G)\n",
    "    print(\"Clustering Coefficient = \", clustering_coef)\n",
    "    average_path_length = nx.average_shortest_path_length(G)\n",
    "    print(\"Average Path Length = \", average_path_length)\n"
   ]
  }
 ],
 "metadata": {
  "kernelspec": {
   "display_name": "Python 3",
   "language": "python",
   "name": "python3"
  },
  "language_info": {
   "codemirror_mode": {
    "name": "ipython",
    "version": 3
   },
   "file_extension": ".py",
   "mimetype": "text/x-python",
   "name": "python",
   "nbconvert_exporter": "python",
   "pygments_lexer": "ipython3",
   "version": "3.6.5"
  }
 },
 "nbformat": 4,
 "nbformat_minor": 2
}
